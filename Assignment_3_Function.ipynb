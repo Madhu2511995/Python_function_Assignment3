{
 "cells": [
  {
   "cell_type": "markdown",
   "id": "ccf89eb8-e0a1-4153-987c-563f20ff95da",
   "metadata": {},
   "source": [
    "Q1. Which keyword is used to create a function? Create a function to return a list of odd numbers in the\n",
    "range of 1 to 25.\n",
    "\n",
    "Q2. Why *args and **kwargs is used in some functions? Create a function each for *args and **kwargs\n",
    "to demonstrate their use.\n",
    "\n",
    "Q3. What is an iterator in python? Name the method used to initialise the iterator object and the method\n",
    "used for iteration. Use these methods to print the first five elements of the given list [2, 4, 6, 8, 10, 12, 14,\n",
    "16, 18, 20].\n",
    "\n",
    "Q4. What is a generator function in python? Why yield keyword is used? Give an example of a generator\n",
    "function.\n",
    "\n",
    "Q5. Create a generator function for prime numbers less than 1000. Use the next() method to print the\n",
    "first 20 prime numbers.\n",
    "\n",
    "Q6. Write a python program to print the first 10 Fibonacci numbers using a while loop.\n",
    "\n",
    "Q7. Write a List Comprehension to iterate through the given string: ‘pwskills’.\n",
    "Expected output: ['p', 'w', 's', 'k', 'i', 'l', 'l', 's']\n",
    "\n",
    "Q8. Write a python program to check whether a given number is Palindrome or not using a while loop.\n",
    "\n",
    "Q9. Write a code to print odd numbers from 1 to 100 using list comprehension.\n",
    "\n",
    "Note: Use a list comprehension to create a list from 1 to 100 and use another List comprehension to filter\n",
    "out odd numbers."
   ]
  },
  {
   "cell_type": "markdown",
   "id": "972899b1-4750-4f33-bbe2-d4c5e6e7b94c",
   "metadata": {},
   "source": [
    "\n",
    "Q1. Which keyword is used to create a function? Create a function to return a list of odd numbers in the range of 1 to 25.\n"
   ]
  },
  {
   "cell_type": "markdown",
   "id": "2eac7b90-58b1-4931-aa47-36d5abdb1271",
   "metadata": {},
   "source": [
    "1. def keyword is use to create a function\n"
   ]
  },
  {
   "cell_type": "code",
   "execution_count": 1,
   "id": "a188625b-9258-47fa-839d-02cadbc8e143",
   "metadata": {},
   "outputs": [],
   "source": [
    "def odd_num(a,b):\n",
    "    l=[]\n",
    "    for i in range(a,b+1):\n",
    "        if i%2 !=0:\n",
    "            l.append(i)\n",
    "        else:\n",
    "            pass\n",
    "    return l\n",
    "            "
   ]
  },
  {
   "cell_type": "code",
   "execution_count": 2,
   "id": "b8ce1ef7-919b-4100-8c23-a5277d764c10",
   "metadata": {},
   "outputs": [
    {
     "data": {
      "text/plain": [
       "[1, 3, 5, 7, 9, 11, 13, 15, 17, 19, 21, 23, 25]"
      ]
     },
     "execution_count": 2,
     "metadata": {},
     "output_type": "execute_result"
    }
   ],
   "source": [
    "odd_num(1,25)"
   ]
  },
  {
   "cell_type": "markdown",
   "id": "c38d6c2b-3e1d-47a8-b1ed-b19fdfda5a44",
   "metadata": {},
   "source": [
    "\n",
    "Q2. Why *args and **kwargs is used in some functions? Create a function each for *args and **kwargs to demonstrate their use.\n"
   ]
  },
  {
   "cell_type": "markdown",
   "id": "f3a489fd-d35d-4c52-bcb5-8ed18d28ff41",
   "metadata": {},
   "source": [
    "\n",
    "*args ==> This types of variable called as Variable Length Arguments. Using This variable we can call the function by \n",
    "passing any number of arguments including zero\n",
    "\n",
    "Ex- def f1(*n)\n",
    "\n",
    "**Kwargs ==> Using this we can declare key word varible length argument. By using this we can call function by passing any number of keyword\n",
    "Arguments\n",
    "\n",
    "Ex- def f2(**n)\n"
   ]
  },
  {
   "cell_type": "code",
   "execution_count": 2,
   "id": "c56ecf42-a679-48d4-8343-04ebb54fa458",
   "metadata": {},
   "outputs": [],
   "source": [
    "def f1(*n):\n",
    "    sum=0\n",
    "    for i in n:\n",
    "        sum=sum+i\n",
    "    print('Sum of Number is :',sum)"
   ]
  },
  {
   "cell_type": "code",
   "execution_count": 6,
   "id": "c2cd1256-3cc6-4914-a1cd-5c293fa40bc1",
   "metadata": {},
   "outputs": [
    {
     "name": "stdout",
     "output_type": "stream",
     "text": [
      "Sum of Number is : 0\n",
      "Sum of Number is : 10\n",
      "Sum of Number is : 30\n",
      "Sum of Number is : 60\n"
     ]
    }
   ],
   "source": [
    "f1()\n",
    "f1(10)\n",
    "f1(10,20)\n",
    "f1(10,20,30)"
   ]
  },
  {
   "cell_type": "markdown",
   "id": "e53765bb-413f-479e-88da-e0f6eedae4a5",
   "metadata": {},
   "source": [
    "\n",
    "\n",
    "Q3. What is an iterator in python? Name the method used to initialise the iterator object and the method used for iteration. Use these methods to print the first five elements of the given list [2, 4, 6, 8, 10, 12, 14, 16, 18, 20].\n",
    "\n"
   ]
  },
  {
   "cell_type": "markdown",
   "id": "ec688846-06b2-492c-ac9b-9a2d5069645e",
   "metadata": {},
   "source": [
    "\n",
    "Iterator ==> is an object that allow you to iterate over the collection like tuples, lists dictionaries, and sets.\n",
    "\n",
    "Iter() method is used to initialize the iterator object so that the instance of this object can be used for iterating.\n"
   ]
  },
  {
   "cell_type": "code",
   "execution_count": 12,
   "id": "596e6862-cba0-410a-95a8-5ee5aa9d43c4",
   "metadata": {},
   "outputs": [
    {
     "name": "stdout",
     "output_type": "stream",
     "text": [
      "2\n",
      "4\n",
      "6\n",
      "8\n",
      "10\n"
     ]
    }
   ],
   "source": [
    "\n",
    "\n",
    "l=[2, 4, 6, 8, 10, 12, 14, 16, 18, 20]\n",
    "iter_list= iter(l)\n",
    "\n",
    "print(next(iter_list))\n",
    "print(next(iter_list))\n",
    "print(next(iter_list))\n",
    "print(next(iter_list))\n",
    "print(next(iter_list))"
   ]
  },
  {
   "cell_type": "code",
   "execution_count": null,
   "id": "713d3253-2b63-4ddf-ba43-dd07c8c81ecc",
   "metadata": {},
   "outputs": [],
   "source": []
  },
  {
   "cell_type": "markdown",
   "id": "a121ed3d-7c93-47f1-920c-cecfa0000777",
   "metadata": {},
   "source": [
    "\n",
    "\n",
    "Q4. What is a generator function in python? Why yield keyword is used? Give an example of a generator function.\n",
    "\n"
   ]
  },
  {
   "cell_type": "markdown",
   "id": "e6ec311c-61a7-415e-812d-79a6de26c060",
   "metadata": {},
   "source": [
    "Generator Function ==> Generator function is a function which is responsible to generate a sequence of value \n",
    "\n",
    "Yield ==> yield keyword is used to return a values\n"
   ]
  },
  {
   "cell_type": "code",
   "execution_count": 45,
   "id": "2aaa49c2-f171-42e2-92cb-17060d9de7c2",
   "metadata": {},
   "outputs": [
    {
     "name": "stdout",
     "output_type": "stream",
     "text": [
      "Start Countdown\n",
      "5\n",
      "4\n",
      "3\n",
      "2\n",
      "1\n"
     ]
    }
   ],
   "source": [
    "def countdown(num):\n",
    "    print('Start Countdown')\n",
    "    while num>0:\n",
    "        yield num\n",
    "        num=num-1\n",
    "values=countdown(5)\n",
    "for i in values:\n",
    "    print(i)"
   ]
  },
  {
   "cell_type": "code",
   "execution_count": null,
   "id": "8e1a0bb7-0c99-49fa-9f2e-577e5be6a54c",
   "metadata": {},
   "outputs": [],
   "source": []
  },
  {
   "cell_type": "markdown",
   "id": "cd7d8927-eb56-4151-abc6-f9a804ff5b6b",
   "metadata": {},
   "source": [
    "\n",
    "\n",
    "Q5. Create a generator function for prime numbers less than 1000. Use the next() method to print the first 20 prime numbers.\n",
    "\n"
   ]
  },
  {
   "cell_type": "code",
   "execution_count": 4,
   "id": "f0bbf63d-e23b-4a60-bc14-a85839be0155",
   "metadata": {},
   "outputs": [
    {
     "data": {
      "text/plain": [
       "False"
      ]
     },
     "execution_count": 4,
     "metadata": {},
     "output_type": "execute_result"
    }
   ],
   "source": [
    "def isPrime(num):\n",
    "    for i in range(2,num):\n",
    "        if num%i==0:\n",
    "            return False\n",
    "    return True"
   ]
  },
  {
   "cell_type": "code",
   "execution_count": 5,
   "id": "467c5b82-adaf-47f0-ad53-0ad5c2fb70b3",
   "metadata": {},
   "outputs": [],
   "source": [
    "def primeGen(n):\n",
    "    num=2\n",
    "    while n:\n",
    "        if isPrime(num):\n",
    "            yield num\n",
    "            n-=1\n",
    "        num+=1\n",
    "    return"
   ]
  },
  {
   "cell_type": "code",
   "execution_count": 13,
   "id": "7000efbf-4abb-43c5-a6c8-d7dce269cf7e",
   "metadata": {},
   "outputs": [
    {
     "name": "stdout",
     "output_type": "stream",
     "text": [
      "2 3 5 7 11 13 17 19 23 29 31 37 41 43 47 53 59 61 67 71 "
     ]
    }
   ],
   "source": [
    "prime_iter=primeGen(20)\n",
    "for i in range(20):\n",
    "    print(next(prime_iter),end=' ')"
   ]
  },
  {
   "cell_type": "code",
   "execution_count": 17,
   "id": "99e48571-466e-4a8e-bdd1-7f5b6f7fc4e5",
   "metadata": {},
   "outputs": [
    {
     "name": "stdout",
     "output_type": "stream",
     "text": [
      "2 3 5 7 11 13 17 19 23 29 31 37 41 43 47 53 59 61 67 71 "
     ]
    }
   ],
   "source": [
    "\n",
    "#or\n",
    "\n",
    "p_iter=primeGen(20)\n",
    "for i in p_iter:\n",
    "    print(i,end=' ')"
   ]
  },
  {
   "cell_type": "code",
   "execution_count": 19,
   "id": "221281b5-56a9-4d84-bc77-e323beb88946",
   "metadata": {},
   "outputs": [
    {
     "name": "stdout",
     "output_type": "stream",
     "text": [
      "2\n",
      "3\n",
      "5\n",
      "7\n"
     ]
    }
   ],
   "source": [
    "# or\n",
    "p=primeGen(20)\n",
    "print(p.__next__())\n",
    "print(p.__next__())\n",
    "print(p.__next__())\n",
    "print(p.__next__())"
   ]
  },
  {
   "cell_type": "markdown",
   "id": "c2a7c92b-d1c5-496f-a05a-63dd7e132377",
   "metadata": {},
   "source": [
    "\n",
    "\n",
    "Q6. Write a python program to print the first 10 Fibonacci numbers using a while loop.\n",
    "\n"
   ]
  },
  {
   "cell_type": "code",
   "execution_count": 8,
   "id": "684a5646-05cd-4c42-b55e-491359a1770d",
   "metadata": {},
   "outputs": [],
   "source": [
    "def fib(n):\n",
    "    a,b=0,1\n",
    "    while True:\n",
    "        yield a\n",
    "        a,b=b,a+b\n",
    "        \n",
    "    "
   ]
  },
  {
   "cell_type": "code",
   "execution_count": 10,
   "id": "14fde374-3358-4632-ba52-b6fd984aca13",
   "metadata": {},
   "outputs": [],
   "source": [
    "fib_num=fib(10)"
   ]
  },
  {
   "cell_type": "code",
   "execution_count": 11,
   "id": "85ee8b7b-c004-42ab-b8e3-d9eecebe2817",
   "metadata": {},
   "outputs": [
    {
     "name": "stdout",
     "output_type": "stream",
     "text": [
      "0\n",
      "1\n",
      "1\n",
      "2\n",
      "3\n",
      "5\n",
      "8\n",
      "13\n",
      "21\n",
      "34\n"
     ]
    }
   ],
   "source": [
    "for i in range(10):\n",
    "    print(next(fib_num))"
   ]
  },
  {
   "cell_type": "markdown",
   "id": "1b97bf9d-34c2-4e9f-bb62-a2d755875f31",
   "metadata": {},
   "source": [
    "\n",
    "\n",
    "Q7. Write a List Comprehension to iterate through the given string: ‘pwskills’. Expected output: ['p', 'w', 's', 'k', 'i', 'l', 'l', 's']\n",
    "\n"
   ]
  },
  {
   "cell_type": "code",
   "execution_count": 8,
   "id": "ed64f9aa-7ff9-45ce-a8a1-104db62dc942",
   "metadata": {},
   "outputs": [
    {
     "name": "stdout",
     "output_type": "stream",
     "text": [
      "['p', 'w', 's', 'k', 'i', 'l', 'l', 's']\n"
     ]
    }
   ],
   "source": [
    "\n",
    "\n",
    "s='pwskills'\n",
    "l=[i for i in s]\n",
    "print(l)\n"
   ]
  },
  {
   "cell_type": "code",
   "execution_count": null,
   "id": "797b1035-0fd7-4005-8db3-30433408c289",
   "metadata": {},
   "outputs": [],
   "source": []
  },
  {
   "cell_type": "code",
   "execution_count": null,
   "id": "43b6926f-b45a-41e8-ac25-04864a4d69ab",
   "metadata": {},
   "outputs": [],
   "source": []
  },
  {
   "cell_type": "markdown",
   "id": "623d6a6e-6d8b-4a38-ae04-06d333f29537",
   "metadata": {},
   "source": [
    "\n",
    "\n",
    "Q8. Write a python program to check whether a given number is Palindrome or not using a while loop.\n"
   ]
  },
  {
   "cell_type": "code",
   "execution_count": 37,
   "id": "d1d76ae9-c3d5-4371-bc0b-85e1f807db86",
   "metadata": {},
   "outputs": [],
   "source": [
    "def palindrome(n):\n",
    "    s=str(n)\n",
    "    l=len(s)\n",
    "    temp=n\n",
    "    p=0\n",
    "    while n!=0:\n",
    "        b=n%10\n",
    "        p=p+b*(10**(l-1))\n",
    "        n=n//10\n",
    "        l=l-1\n",
    "    if p==temp:\n",
    "        print('Number is Palindrome')\n",
    "    else:\n",
    "        print('Number is Not Palindrome')"
   ]
  },
  {
   "cell_type": "code",
   "execution_count": 41,
   "id": "8507e349-cd12-4e0a-a3c3-2717e64a2a50",
   "metadata": {},
   "outputs": [
    {
     "name": "stdout",
     "output_type": "stream",
     "text": [
      "Number is Palindrome\n"
     ]
    }
   ],
   "source": [
    "palindrome(121)"
   ]
  },
  {
   "cell_type": "code",
   "execution_count": 42,
   "id": "62ea5162-219a-41dc-b24f-7b6562b8eb64",
   "metadata": {},
   "outputs": [
    {
     "name": "stdout",
     "output_type": "stream",
     "text": [
      "Number is Not Palindrome\n"
     ]
    }
   ],
   "source": [
    "palindrome(122)"
   ]
  },
  {
   "cell_type": "code",
   "execution_count": null,
   "id": "3e64ef13-9467-423b-bd0f-0bc24bc456cd",
   "metadata": {},
   "outputs": [],
   "source": []
  },
  {
   "cell_type": "markdown",
   "id": "611115f2-2454-456b-babd-c9e543be6beb",
   "metadata": {},
   "source": [
    "\n",
    "Q9. Write a code to print odd numbers from 1 to 100 using list comprehension.\n"
   ]
  },
  {
   "cell_type": "code",
   "execution_count": 10,
   "id": "ca7a2fe6-6d85-4534-bfe2-edd8c19c45ab",
   "metadata": {},
   "outputs": [
    {
     "name": "stdout",
     "output_type": "stream",
     "text": [
      "[1, 3, 5, 7, 9, 11, 13, 15, 17, 19, 21, 23, 25, 27, 29, 31, 33, 35, 37, 39, 41, 43, 45, 47, 49, 51, 53, 55, 57, 59, 61, 63, 65, 67, 69, 71, 73, 75, 77, 79, 81, 83, 85, 87, 89, 91, 93, 95, 97, 99]\n"
     ]
    }
   ],
   "source": [
    "l=[x for x in range(1,101) if x%2 !=0 ]\n",
    "print(l)"
   ]
  }
 ],
 "metadata": {
  "kernelspec": {
   "display_name": "Python 3 (ipykernel)",
   "language": "python",
   "name": "python3"
  },
  "language_info": {
   "codemirror_mode": {
    "name": "ipython",
    "version": 3
   },
   "file_extension": ".py",
   "mimetype": "text/x-python",
   "name": "python",
   "nbconvert_exporter": "python",
   "pygments_lexer": "ipython3",
   "version": "3.10.8"
  }
 },
 "nbformat": 4,
 "nbformat_minor": 5
}
